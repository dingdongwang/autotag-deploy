{
 "cells": [
  {
   "cell_type": "code",
   "execution_count": 2,
   "id": "982db574",
   "metadata": {
    "scrolled": true
   },
   "outputs": [],
   "source": [
    "\n",
    "import os\n",
    "import json\n",
    "\n",
    "import boto3\n",
    "import sagemaker\n",
    "from sagemaker.pytorch import PyTorchModel\n",
    "from sagemaker import get_execution_role, Session\n",
    "role = get_execution_role()\n",
    "s3 = boto3.client(\"s3\")\n",
    "sess = Session()\n"
   ]
  },
  {
   "cell_type": "code",
   "execution_count": 4,
   "id": "e27dc8d8",
   "metadata": {},
   "outputs": [],
   "source": [
    "# setups\n",
    "\n",
    "import os\n",
    "import json\n",
    "\n",
    "import boto3\n",
    "import sagemaker\n",
    "from sagemaker.pytorch import PyTorchModel\n",
    "from sagemaker import get_execution_role, Session\n",
    "\n",
    "role = get_execution_role()\n",
    "s3 = boto3.client(\"s3\")\n",
    "sess = Session()\n",
    "pt_model_data = sess.upload_data(\n",
    "        path=\"model.tar.gz\", bucket=sess.default_bucket(), key_prefix=\"model\"\n",
    "    )\n",
    "# # Get global config\n",
    "# with open(\"code/config.json\", \"r\") as f:\n",
    "#     CONFIG = json.load(f)\n",
    "\n",
    "# sess = Session()\n",
    "\n",
    "# role = get_execution_role()\n",
    "\n",
    "# %store -r pt_mnist_model_data\n",
    "\n",
    "# try:\n",
    "#     pt_mnist_model_data\n",
    "# except NameError:\n",
    "#     import json\n",
    "\n",
    "#     # copy a pretrained model from a public public to your default bucket\n",
    "#     s3 = boto3.client(\"s3\")\n",
    "#     bucket = CONFIG[\"public_bucket\"]\n",
    "#     key = \"datasets/image/MNIST/model/pytorch-training-2020-11-21-22-02-56-203/model.tar.gz\"\n",
    "#     s3.download_file(bucket, key, \"model.tar.gz\")\n",
    "\n",
    "#     # upload to default bucket\n",
    "#     pt_mnist_model_data = sess.upload_data(\n",
    "#         path=\"model.tar.gz\", bucket=sess.default_bucket(), key_prefix=\"model/pytorch\"\n",
    "#     )"
   ]
  },
  {
   "cell_type": "code",
   "execution_count": 5,
   "id": "d2b25d07",
   "metadata": {},
   "outputs": [
    {
     "data": {
      "text/plain": [
       "'s3://sagemaker-us-east-1-368703438116/model/model.tar.gz'"
      ]
     },
     "execution_count": 5,
     "metadata": {},
     "output_type": "execute_result"
    }
   ],
   "source": [
    "pt_model_data"
   ]
  },
  {
   "cell_type": "code",
   "execution_count": 6,
   "id": "cbeeb7ae",
   "metadata": {},
   "outputs": [],
   "source": [
    "model = PyTorchModel(\n",
    "    entry_point=\"inference.py\",\n",
    "    source_dir=\"code\",\n",
    "    role=role,\n",
    "    model_data=pt_model_data,\n",
    "    framework_version=\"1.5.0\",\n",
    "    py_version=\"py3\",\n",
    ")\n",
    "\n"
   ]
  },
  {
   "cell_type": "code",
   "execution_count": 7,
   "id": "ec29732c",
   "metadata": {},
   "outputs": [
    {
     "name": "stdout",
     "output_type": "stream",
     "text": [
      "-------!"
     ]
    }
   ],
   "source": [
    "from sagemaker.serializers import JSONSerializer\n",
    "from sagemaker.deserializers import JSONDeserializer\n",
    "\n",
    "# set local_mode to False if you want to deploy on a remote\n",
    "# SageMaker instance\n",
    "\n",
    "local_mode = False\n",
    "\n",
    "if local_mode:\n",
    "    instance_type = \"local\"\n",
    "else:\n",
    "    instance_type = \"ml.c4.xlarge\"\n",
    "\n",
    "# predictor = model.deploy(\n",
    "#     initial_instance_count=1,\n",
    "#     instance_type=instance_type,\n",
    "#     #serializer=JSONSerializer(),\n",
    "#     #deserializer=JSONDeserializer(),\n",
    "# )\n",
    "predictor = model.deploy(\n",
    "    initial_instance_count=1,\n",
    "    instance_type=instance_type,\n",
    "#     serializer=JSONSerializer(),\n",
    "#     deserializer=JSONDeserializer(),\n",
    ")"
   ]
  },
  {
   "cell_type": "code",
   "execution_count": 257,
   "id": "765ed57a",
   "metadata": {},
   "outputs": [],
   "source": [
    "import json\n",
    "import os\n",
    "import re\n",
    "from functools import partial\n",
    "\n",
    "import torch\n",
    "import torch.nn as nn\n",
    "import torch.nn.functional as F\n",
    "from sklearn.metrics import classification_report\n",
    "from torch.utils.data import DataLoader\n",
    "from transformers import BertForSequenceClassification\n",
    "from transformers import BertModel\n",
    "from transformers import BertTokenizer\n",
    "\n",
    "import torch\n",
    "import torch.nn as nn\n",
    "from torch.nn.utils.rnn import pack_padded_sequence\n",
    "from torch.nn.utils.rnn import pad_packed_sequence\n",
    "\n",
    "\n",
    "import re\n",
    "# from model import Model\n",
    "# from utils import collate_batch\n",
    "\n",
    "\n",
    "# data_path='data/prediction_0717.csv'\n",
    "batch_size=32\n",
    "# init_from_ckpt=\"ckpt_ernie_gram_bs8_lr5e-5_epoch25/epoch_9.pth\"\n",
    "# device=\"cuda\"\n",
    "import os\n",
    "import json\n",
    "from transformers import BertTokenizer, BertModel\n",
    "import re\n",
    "\n",
    "import jieba\n",
    "import pandas as pd\n",
    "from torch.utils.data import Dataset\n"
   ]
  },
  {
   "cell_type": "code",
   "execution_count": 396,
   "id": "4751468c",
   "metadata": {
    "scrolled": true
   },
   "outputs": [
    {
     "data": {
      "text/plain": [
       "'\"Working with SageMaker makes machine learning \"'"
      ]
     },
     "execution_count": 396,
     "metadata": {},
     "output_type": "execute_result"
    }
   ],
   "source": [
    "prompt = \"Working with SageMaker makes machine learning \"\n",
    "json.dumps(prompt)invoke_endpoint( "
   ]
  },
  {
   "cell_type": "code",
   "execution_count": 309,
   "id": "e9c77541",
   "metadata": {},
   "outputs": [],
   "source": [
    "tags_file = os.path.join(\"data/tags.txt\") #not sure\n",
    "with open(tags_file, \"r\", encoding=\"utf8\") as f:\n",
    "        label_dict = json.load(f)\n",
    "        inv_label = {value: key for key, value in label_dict.items()}\n",
    "#pred_ds = MyDataSet(input_data, is_test=True) ###改为input_fn(request_body)   \n",
    "\n",
    "\n",
    "def collate_batch(batch, tokenizer, label_dict=None, is_test=False):\n",
    "    text_a, text_b, labels = [], [], []\n",
    "    for a, b, part, label in batch:\n",
    "        text_a.append(part + \" \" + b)\n",
    "        text_b.append(part + \" \" + a)\n",
    "    encoded_inputs = tokenizer(text=text_a, text_pair=text_b, padding=True, return_tensors=\"pt\")\n",
    "    if not is_test and isinstance(label_dict, dict):\n",
    "        labels = torch.tensor([label_dict[item[3]] for item in batch])\n",
    "        return encoded_inputs[\"input_ids\"], encoded_inputs[\"token_type_ids\"], encoded_inputs[\"attention_mask\"], labels\n",
    "    else:\n",
    "        return encoded_inputs[\"input_ids\"], encoded_inputs[\"token_type_ids\"], encoded_inputs[\"attention_mask\"]\n",
    "    \n",
    " "
   ]
  },
  {
   "cell_type": "code",
   "execution_count": 112,
   "id": "ea87a4e3",
   "metadata": {},
   "outputs": [],
   "source": [
    "class MyDataSet(Dataset):\n",
    "\n",
    "    def __init__(self, file_path, is_test=False):\n",
    "        self.is_test = is_test\n",
    "        self.data = pd.read_csv(file_path)[0:1]\n",
    "        #self.data = pd.read_csv(file_path)\n",
    "\n",
    "    def __getitem__(self, idx):\n",
    "        if self.is_test:\n",
    "            text_a, text_b, part = self.data.loc[idx][\"Defect Found\"], self.data.loc[idx][\n",
    "                \"Work Executed\"], self.data.loc[idx]['QM Part Structure Text']\n",
    "            part = part.strip().lower()\n",
    "            if not (isinstance(text_a, str)):\n",
    "                text_a = \"\"\n",
    "            if not (isinstance(text_b, str)):\n",
    "                text_b = \"\"\n",
    "            text_a = re.sub(r\"sj[0-9A-Za-z]*[-/]*\\d*|SJ[0-9A-Za-z]*[-/]*\\d*|//\\d*-|\\d*-\\d*-\", \"\", text_a)\n",
    "            text_b = re.sub(r\"</br>|br|\\sbr\\s|\\s</br>\\s\", \"。\", text_b)\n",
    "            return text_a, text_b, part, None\n",
    "        else:\n",
    "            return self.data.loc[idx][\"text_a\"], self.data.loc[idx][\"text_b\"],\\\n",
    "                   self.data.loc[idx][\"part\"], self.data.loc[idx][\"label\"]\n",
    "\n",
    "    def __len__(self):\n",
    "        return self.data.shape[0]\n",
    "   "
   ]
  },
  {
   "cell_type": "code",
   "execution_count": 323,
   "id": "f011ddc5",
   "metadata": {},
   "outputs": [],
   "source": [
    "pred_ds = MyDataSet(\"data/prediction_0717.csv\", is_test=True)\n",
    "tokenizer = BertTokenizer.from_pretrained(\"nghuyong/ernie-gram-zh\")\n",
    "trans_fn = partial(collate_batch, tokenizer=tokenizer, label_dict=label_dict, is_test=True)\n",
    "data_loader = DataLoader(pred_ds, shuffle=False, batch_size=batch_size, collate_fn=trans_fn)\n",
    "\n",
    "###----------------------------\n",
    "test1 = []\n",
    "test2=[]\n",
    "test3=[]\n",
    "with torch.no_grad():\n",
    "        for idx, (input_ids, token_type_ids, attention_mask) in enumerate(data_loader):\n",
    "            test1=input_ids\n",
    "            test2=token_type_ids\n",
    "            test3=attention_mask\n",
    "\n",
    "# ###------------------------------\n",
    "# input_data={}\n",
    "# input_data[\"input_ids\"]=test1.tolist()\n",
    "# input_data[\"token_type_ids\"]=test2.tolist()\n",
    "# input_data[\"attention_mask\"]=test3.tolist()"
   ]
  },
  {
   "cell_type": "code",
   "execution_count": 434,
   "id": "3d40bd12",
   "metadata": {},
   "outputs": [],
   "source": [
    "text1=\"E代码: , FD:  ,序列号:  ,  问题描述:  SJ236I01JC;微信报单, 备注:[期望上门时间:2022/06/19 上午（9:00-12:00）] E代码:SJ236I01JC,问题描述: 微信报单,显示E/F故障代码, 备注:前天显示e14 水龙头亮灯今天显示e14 太阳图标亮灯2次都没洗完,优先联系电话：电话-13257008798,微信授权手机号：13184590362 (期望上门时间:2022/06/19 上午（9:00-12:00）)   显示故障代码/故障信号6\"\n",
    "text2=\"我看到:显示屏显示E14触点故障 br 我做了:更换流量开关br 备注:\"\n",
    "text3=\"WATER LEVEL SYSTEM\"\n",
    "input_data= {\"t1\": text1,\"t2\":text2,\"t3\":text3}"
   ]
  },
  {
   "cell_type": "code",
   "execution_count": 435,
   "id": "008ad31a",
   "metadata": {},
   "outputs": [
    {
     "data": {
      "text/plain": [
       "{'t1': 'E代码: , FD:  ,序列号:  ,  问题描述:  SJ236I01JC;微信报单, 备注:[期望上门时间:2022/06/19 上午（9:00-12:00）] E代码:SJ236I01JC,问题描述: 微信报单,显示E/F故障代码, 备注:前天显示e14 水龙头亮灯今天显示e14 太阳图标亮灯2次都没洗完,优先联系电话：电话-13257008798,微信授权手机号：13184590362 (期望上门时间:2022/06/19 上午（9:00-12:00）)   显示故障代码/故障信号6',\n",
       " 't2': '我看到:显示屏显示E14触点故障 br 我做了:更换流量开关br 备注:',\n",
       " 't3': 'WATER LEVEL SYSTEM'}"
      ]
     },
     "execution_count": 435,
     "metadata": {},
     "output_type": "execute_result"
    }
   ],
   "source": [
    "input_data"
   ]
  },
  {
   "cell_type": "code",
   "execution_count": 439,
   "id": "cb38ef65",
   "metadata": {},
   "outputs": [
    {
     "data": {
      "text/plain": [
       "'{\"t1\": \"E代码: , FD:  ,序列号:  ,  问题描述:  SJ236I01JC;微信报单, 备注:[期望上门时间:2022/06/19 上午（9:00-12:00）] E代码:SJ236I01JC,问题描述: 微信报单,显示E/F故障代码, 备注:前天显示e14 水龙头亮灯今天显示e14 太阳图标亮灯2次都没洗完,优先联系电话：电话-13257008798,微信授权手机号：13184590362 (期望上门时间:2022/06/19 上午（9:00-12:00）)   显示故障代码/故障信号6\",\"t2\":\"我看到:显示屏显示E14触点故障 br 我做了:更换流量开关br 备注:\",\"t3\":\"WATER LEVEL SYSTEM\"}'"
      ]
     },
     "execution_count": 439,
     "metadata": {},
     "output_type": "execute_result"
    }
   ],
   "source": [
    "ppp='{\"t1\": \"E代码: , FD:  ,序列号:  ,  问题描述:  SJ236I01JC;微信报单, 备注:[期望上门时间:2022/06/19 上午（9:00-12:00）] E代码:SJ236I01JC,问题描述: 微信报单,显示E/F故障代码, 备注:前天显示e14 水龙头亮灯今天显示e14 太阳图标亮灯2次都没洗完,优先联系电话：电话-13257008798,微信授权手机号：13184590362 (期望上门时间:2022/06/19 上午（9:00-12:00）)   显示故障代码/故障信号6\",\"t2\":\"我看到:显示屏显示E14触点故障 br 我做了:更换流量开关br 备注:\",\"t3\":\"WATER LEVEL SYSTEM\"}'\n",
    "ppp\n",
    "\n"
   ]
  },
  {
   "cell_type": "code",
   "execution_count": 511,
   "id": "3484f4bf",
   "metadata": {},
   "outputs": [],
   "source": [
    "payload = '{\"t1\": \"E代码: , FD:  ,序列号:  ,  问题描述:  SJ236I01JC;微信报单, 备注:[期望上门时间:2022/06/19 上午（9:00-12:00）] E代码:SJ236I01JC,问题描述: 微信报单,显示E/F故障代码, 备注:前天显示e14 水龙头亮灯今天显示e14 太阳图标亮灯2次都没洗完,优先联系电话：电话-13257008798,微信授权手机号：13184590362 (期望上门时间:2022/06/19 上午（9:00-12:00）)   显示故障代码/故障信号6\",\"t2\":\"我看到:显示屏显示E14触点故障 br 我做了:更换流量开关br 备注:\",\"t3\":\"WATER LEVEL SYSTEM\"}'\n",
    "\n",
    "client = boto3.client(\"sagemaker-runtime\")\n",
    "\n",
    "response = client.invoke_endpoint(\n",
    "    EndpointName=\"pytorch-inference-2022-12-14-03-10-55-023\", ContentType=\"application/json\", Body=payload\n",
    ")"
   ]
  },
  {
   "cell_type": "code",
   "execution_count": 513,
   "id": "5d55792b",
   "metadata": {},
   "outputs": [
    {
     "data": {
      "text/plain": [
       "b'[[\"water level system-e14\"], [0.9979701638221741]]'"
      ]
     },
     "execution_count": 513,
     "metadata": {},
     "output_type": "execute_result"
    }
   ],
   "source": [
    "output = response[\"Body\"].read()\n",
    "output"
   ]
  },
  {
   "cell_type": "code",
   "execution_count": 466,
   "id": "d8370156",
   "metadata": {},
   "outputs": [],
   "source": [
    "import boto3\n",
    "payload = '{\"t1\": \"E代码: , FD:  ,序列号:  ,  问题描述:  SJ236I01JC;微信报单, 备注:[期望上门时间:2022/06/19 上午（9:00-12:00）] E代码:SJ236I01JC,问题描述: 微信报单,显示E/F故障代码, 备注:前天显示e14 水龙头亮灯今天显示e14 太阳图标亮灯2次都没洗完,优先联系电话：电话-13257008798,微信授权手机号：13184590362 (期望上门时间:2022/06/19 上午（9:00-12:00）)   显示故障代码/故障信号6\",\"t2\":\"我看到:显示屏显示E14触点故障 br 我做了:更换流量开关br 备注:\",\"t3\":\"WATER LEVEL SYSTEM\"}'\n",
    "\n",
    "client = boto3.client(\"sagemaker-runtime\")\n",
    "\n",
    "response = client.invoke_endpoint(\n",
    "    EndpointName=\"pytorch-inference-2022-12-13-15-56-57-197\", ContentType=\"application/json\", Body=payload\n",
    ")"
   ]
  },
  {
   "cell_type": "code",
   "execution_count": 467,
   "id": "a88710f8",
   "metadata": {},
   "outputs": [],
   "source": [
    "output = response[\"Body\"].read()"
   ]
  },
  {
   "cell_type": "code",
   "execution_count": 519,
   "id": "f2639d85",
   "metadata": {},
   "outputs": [],
   "source": [
    "output=bytes.decode(output)"
   ]
  },
  {
   "cell_type": "code",
   "execution_count": 525,
   "id": "9d00e037",
   "metadata": {},
   "outputs": [],
   "source": [
    "data=json.loads(output)"
   ]
  },
  {
   "cell_type": "code",
   "execution_count": 527,
   "id": "7dfb94da",
   "metadata": {},
   "outputs": [
    {
     "data": {
      "text/plain": [
       "[0.9979701638221741]"
      ]
     },
     "execution_count": 527,
     "metadata": {},
     "output_type": "execute_result"
    }
   ],
   "source": [
    "data[1]"
   ]
  },
  {
   "cell_type": "code",
   "execution_count": null,
   "id": "85315c7f",
   "metadata": {},
   "outputs": [],
   "source": []
  }
 ],
 "metadata": {
  "kernelspec": {
   "display_name": "conda_pytorch_p36",
   "language": "python",
   "name": "conda_pytorch_p36"
  },
  "language_info": {
   "codemirror_mode": {
    "name": "ipython",
    "version": 3
   },
   "file_extension": ".py",
   "mimetype": "text/x-python",
   "name": "python",
   "nbconvert_exporter": "python",
   "pygments_lexer": "ipython3",
   "version": "3.7.12"
  }
 },
 "nbformat": 4,
 "nbformat_minor": 5
}
